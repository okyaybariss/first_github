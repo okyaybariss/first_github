{
 "cells": [
  {
   "cell_type": "markdown",
   "id": "648212b2",
   "metadata": {},
   "source": [
    "Data Science Tools and Ecosystem"
   ]
  },
  {
   "cell_type": "markdown",
   "id": "96031fc4",
   "metadata": {},
   "source": [
    "In this notebook, Data Science Tools and Ecosystem are summarized."
   ]
  },
  {
   "cell_type": "markdown",
   "id": "bf7695df",
   "metadata": {},
   "source": [
    "#Some of the popular languages that Data Scientists use are:\n",
    "\n",
    "1. Python 2. C 3. Java 4. Assembly"
   ]
  },
  {
   "cell_type": "markdown",
   "id": "b0150ed0",
   "metadata": {},
   "source": [
    "#Some of the commonly used libraries used by Data Scientists include:\n",
    "1. tenserflow, 2. pandas, 3. pythorch, 4. ggplot"
   ]
  },
  {
   "cell_type": "markdown",
   "id": "bf7ad6b8",
   "metadata": {},
   "source": [
    "#Data Science Tools\n",
    "\n",
    "| Data Science Tools        |\n",
    "|---------------------------|\n",
    "| Jupyter Notebook          |\n",
    "| RStudio                   |\n",
    "| VS Code with Python Tools |\n"
   ]
  },
  {
   "cell_type": "markdown",
   "id": "9c1a9fba",
   "metadata": {},
   "source": [
    "###Below are a few examples of evaluating arithmetic expressions in Python"
   ]
  },
  {
   "cell_type": "code",
   "execution_count": 3,
   "id": "b4223244",
   "metadata": {},
   "outputs": [
    {
     "data": {
      "text/plain": [
       "17"
      ]
     },
     "execution_count": 3,
     "metadata": {},
     "output_type": "execute_result"
    }
   ],
   "source": [
    "#This a simple arithmetic expression to mutiply then add integers\n",
    "(3*4)+5"
   ]
  },
  {
   "cell_type": "code",
   "execution_count": 5,
   "id": "502e0b9e",
   "metadata": {},
   "outputs": [
    {
     "name": "stdout",
     "output_type": "stream",
     "text": [
      "3.3333333333333335\n"
     ]
    }
   ],
   "source": [
    "#This will convert 200 minutes to hours by diving by 60\n",
    "min=200\n",
    "hours=min/60\n",
    "print(hours)"
   ]
  },
  {
   "cell_type": "markdown",
   "id": "14f93ff1",
   "metadata": {},
   "source": [
    "**Objectives:**\n",
    "\n",
    "- List popular languages for Data Science.\n",
    "- Explore common development environments in data science.\n",
    "- Understand the concept of data management.\n",
    "- Learn about the basics of data integration and transformation.\n",
    "- Explore the significance of data visualization.\n"
   ]
  },
  {
   "cell_type": "markdown",
   "id": "3966ca67",
   "metadata": {},
   "source": [
    "##Author\n",
    "- okyaybariss"
   ]
  },
  {
   "cell_type": "code",
   "execution_count": null,
   "id": "640b0f23",
   "metadata": {},
   "outputs": [],
   "source": []
  }
 ],
 "metadata": {
  "kernelspec": {
   "display_name": "Python 3 (ipykernel)",
   "language": "python",
   "name": "python3"
  },
  "language_info": {
   "codemirror_mode": {
    "name": "ipython",
    "version": 3
   },
   "file_extension": ".py",
   "mimetype": "text/x-python",
   "name": "python",
   "nbconvert_exporter": "python",
   "pygments_lexer": "ipython3",
   "version": "3.11.5"
  }
 },
 "nbformat": 4,
 "nbformat_minor": 5
}
